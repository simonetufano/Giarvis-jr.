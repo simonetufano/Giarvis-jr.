{
 "cells": [
  {
   "cell_type": "code",
   "execution_count": 2,
   "metadata": {},
   "outputs": [],
   "source": [
    "import wikipedia\n",
    "wikipedia.set_lang('it')"
   ]
  },
  {
   "cell_type": "code",
   "execution_count": 3,
   "metadata": {},
   "outputs": [],
   "source": [
    "import PySimpleGUI as sg\n",
    "sg.theme('DarkRed1')\n",
    "layout =[[sg.Text('Cosa vuoi sapere'), sg.InputText()],[sg.Button('Ok'), sg.Button('Annulla')]]\n",
    "window = sg.Window('Giarvis Jr.', layout)"
   ]
  },
  {
   "cell_type": "code",
   "execution_count": 4,
   "metadata": {},
   "outputs": [],
   "source": [
    "import pyttsx3\n",
    "engine = pyttsx3.init()"
   ]
  },
  {
   "cell_type": "code",
   "execution_count": null,
   "metadata": {},
   "outputs": [
    {
     "name": "stdout",
     "output_type": "stream",
     "text": [
      "Berlusconi\n"
     ]
    }
   ],
   "source": [
    "while True:\n",
    "    event, values = window.read()\n",
    "    if event in (None, 'Cancel'):\n",
    "        break\n",
    "    try:\n",
    "        wiki_res = wikipedia.summary(values[0], sentences=2)\n",
    "        engine.say(wiki_res)\n",
    "    except wikipedia.exceptions.DisambiguationError or wikipedia.exceptions.PageError:\n",
    "        engine.say('Non posso sapere tutto...')\n",
    "    except:\n",
    "        engine.say('Non posso sapere tutto...')\n",
    "        \n",
    "    engine.runAndWait()\n",
    "    print (values[0])\n",
    "windows.close()"
   ]
  },
  {
   "cell_type": "code",
   "execution_count": null,
   "metadata": {},
   "outputs": [],
   "source": []
  }
 ],
 "metadata": {
  "kernelspec": {
   "display_name": "Python 3",
   "language": "python",
   "name": "python3"
  },
  "language_info": {
   "codemirror_mode": {
    "name": "ipython",
    "version": 3
   },
   "file_extension": ".py",
   "mimetype": "text/x-python",
   "name": "python",
   "nbconvert_exporter": "python",
   "pygments_lexer": "ipython3",
   "version": "3.7.3"
  }
 },
 "nbformat": 4,
 "nbformat_minor": 2
}
